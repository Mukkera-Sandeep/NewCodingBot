[LA10](https://github.com/Mukkera-Sandeep/sandeep/edit/main/Assignment10.ipynb)
