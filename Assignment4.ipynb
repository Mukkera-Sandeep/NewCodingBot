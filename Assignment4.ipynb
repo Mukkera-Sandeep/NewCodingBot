{
  "nbformat": 4,
  "nbformat_minor": 0,
  "metadata": {
    "colab": {
      "provenance": [],
      "toc_visible": true,
      "authorship_tag": "ABX9TyP74BHW0fkz0pdGKPOR1/6b",
      "include_colab_link": true
    },
    "kernelspec": {
      "name": "python3",
      "display_name": "Python 3"
    },
    "language_info": {
      "name": "python"
    }
  },
  "cells": [
    {
      "cell_type": "markdown",
      "metadata": {
        "id": "view-in-github",
        "colab_type": "text"
      },
      "source": [
        "<a href=\"https://colab.research.google.com/github/Mukkera-Sandeep/sandeep/blob/main/Assignment4.ipynb\" target=\"_parent\"><img src=\"https://colab.research.google.com/assets/colab-badge.svg\" alt=\"Open In Colab\"/></a>"
      ]
    },
    {
      "cell_type": "code",
      "source": [
        "import numpy as np\n",
        "import pandas as pd\n",
        "import matplotlib.pyplot as plt\n",
        "import seaborn as sns\n",
        "%matplotlib inline"
      ],
      "metadata": {
        "id": "Q8pD-SKe9aK2"
      },
      "execution_count": 1,
      "outputs": []
    },
    {
      "cell_type": "code",
      "source": [
        "df = pd.read_csv(\"USA_Housing.csv\")\n",
        "df.head()"
      ],
      "metadata": {
        "id": "dH9O0sPX94XJ"
      },
      "execution_count": null,
      "outputs": []
    },
    {
      "cell_type": "code",
      "source": [
        "df.info(verbose=True)"
      ],
      "metadata": {
        "id": "gxo6_xll9__7"
      },
      "execution_count": null,
      "outputs": []
    },
    {
      "cell_type": "code",
      "source": [
        "df.describe(percentiles=[0.1,0.25,0.5,0.75,0.9])"
      ],
      "metadata": {
        "id": "U-OsCZNa-PoU"
      },
      "execution_count": null,
      "outputs": []
    },
    {
      "cell_type": "code",
      "source": [
        "df.columns"
      ],
      "metadata": {
        "id": "Q_h0GYbt-Y2M"
      },
      "execution_count": null,
      "outputs": []
    },
    {
      "cell_type": "code",
      "source": [
        "\n",
        "sns.pairplot(df)"
      ],
      "metadata": {
        "id": "XRzLCCI2-fWo"
      },
      "execution_count": null,
      "outputs": []
    },
    {
      "cell_type": "code",
      "source": [
        "df['Price'].plot.density()"
      ],
      "metadata": {
        "id": "Gdqmm5tT-67-"
      },
      "execution_count": null,
      "outputs": []
    },
    {
      "cell_type": "code",
      "source": [
        "\n",
        "df.corr()"
      ],
      "metadata": {
        "id": "nTir0EYt_AG-"
      },
      "execution_count": null,
      "outputs": []
    },
    {
      "cell_type": "code",
      "source": [
        "plt.figure(figsize=(10,7))\n",
        "sns.heatmap(df.corr(),annot=True,linewidths=2)"
      ],
      "metadata": {
        "id": "5hNJOZky_Hj4"
      },
      "execution_count": null,
      "outputs": []
    },
    {
      "cell_type": "code",
      "source": [
        "X = df[l_column[0:len_feature-2]]\n",
        "y = df[l_column[len_feature-2]]"
      ],
      "metadata": {
        "id": "SLI3Xske_6HU"
      },
      "execution_count": null,
      "outputs": []
    },
    {
      "cell_type": "code",
      "source": [
        "print(\"Feature set size:\",X.shape)\n",
        "print(\"Variable set size:\",y.shape)"
      ],
      "metadata": {
        "id": "GXyUJBmkAA0d"
      },
      "execution_count": null,
      "outputs": []
    },
    {
      "cell_type": "code",
      "source": [
        "\n",
        "X.head()"
      ],
      "metadata": {
        "id": "PNh9woDIALtq"
      },
      "execution_count": null,
      "outputs": []
    },
    {
      "cell_type": "code",
      "source": [
        "\n",
        "y.head()"
      ],
      "metadata": {
        "id": "-Hv1d58nAPTn"
      },
      "execution_count": null,
      "outputs": []
    },
    {
      "cell_type": "code",
      "source": [
        "\n",
        "from sklearn.model_selection import train_test_split"
      ],
      "metadata": {
        "id": "xsy3tIquATWd"
      },
      "execution_count": null,
      "outputs": []
    },
    {
      "cell_type": "code",
      "source": [
        "X_train, X_test, y_train, y_test = train_test_split(X, y,\n",
        "                            test_size=0.3, random_state=123)"
      ],
      "metadata": {
        "id": "GVSrY1YcAX2j"
      },
      "execution_count": null,
      "outputs": []
    },
    {
      "cell_type": "code",
      "source": [
        "print(\"Training feature set size:\",X_train.shape)\n",
        "print(\"Test feature set size:\",X_test.shape)\n",
        "print(\"Training variable set size:\",y_train.shape)\n",
        "print(\"Test variable set size:\",y_test.shape)"
      ],
      "metadata": {
        "id": "nvOiQWJ6Aezk"
      },
      "execution_count": null,
      "outputs": []
    },
    {
      "cell_type": "code",
      "source": [
        "from sklearn.linear_model import LinearRegression\n",
        "from sklearn import metrics"
      ],
      "metadata": {
        "id": "EL1jINbrAp4N"
      },
      "execution_count": 17,
      "outputs": []
    },
    {
      "cell_type": "code",
      "source": [
        "\n",
        "lm = LinearRegression() # Creating a Linear Regression object 'lm"
      ],
      "metadata": {
        "id": "JrxdDaewAu3E"
      },
      "execution_count": 18,
      "outputs": []
    },
    {
      "cell_type": "code",
      "source": [
        "lm.fit(X_train,y_train) # Fit the linear model on to the 'lm' object itself i.e. no need to set this to another variable"
      ],
      "metadata": {
        "id": "miGOVW1CA1EW"
      },
      "execution_count": null,
      "outputs": []
    },
    {
      "cell_type": "code",
      "source": [
        "print(\"The intercept term of the linear model:\", lm.intercept_)"
      ],
      "metadata": {
        "id": "gr6gwcKQA9lP"
      },
      "execution_count": null,
      "outputs": []
    },
    {
      "cell_type": "code",
      "source": [
        "print(\"The coefficients of the linear model:\", lm.coef_)"
      ],
      "metadata": {
        "id": "x5Bqcc_fBEpx"
      },
      "execution_count": null,
      "outputs": []
    },
    {
      "cell_type": "code",
      "source": [
        "#idict = {'Coefficients':lm.intercept_}\n",
        "#idf = pd.DataFrame(data=idict,index=['Intercept'])\n",
        "cdf = pd.DataFrame(data=lm.coef_, index=X_train.columns, columns=[\"Coefficients\"])\n",
        "#cdf=pd.concat([idf,cdf], axis=0)\n",
        "cdf\n"
      ],
      "metadata": {
        "id": "kMUMOpcIBLfT"
      },
      "execution_count": null,
      "outputs": []
    },
    {
      "cell_type": "code",
      "source": [
        "n=X_train.shape[0]\n",
        "k=X_train.shape[1]\n",
        "dfN = n-k\n",
        "train_pred=lm.predict(X_train)\n",
        "train_error = np.square(train_pred - y_train)\n",
        "sum_error=np.sum(train_error)\n",
        "se=[0,0,0,0,0]\n",
        "for i in range(k):\n",
        "    r = (sum_error/dfN)\n",
        "    r = r/np.sum(np.square(X_train[\n",
        "        list(X_train.columns)[i]]-X_train[list(X_train.columns)[i]].mean()))\n",
        "    se[i]=np.sqrt(r)\n",
        "cdf['Standard Error']=se\n",
        "cdf['t-statistic']=cdf['Coefficients']/cdf['Standard Error']\n",
        "cdf"
      ],
      "metadata": {
        "id": "jxDbZB81BTZK"
      },
      "execution_count": null,
      "outputs": []
    },
    {
      "cell_type": "code",
      "source": [
        "print(\"Therefore, features arranged in the order of importance for predicting the house price\\n\",'-'*90,sep='')\n",
        "l=list(cdf.sort_values('t-statistic',ascending=False).index)\n",
        "print(' > \\n'.join(l))"
      ],
      "metadata": {
        "id": "XFPczmQVBbGS"
      },
      "execution_count": null,
      "outputs": []
    },
    {
      "cell_type": "code",
      "source": [
        "l=list(cdf.index)\n",
        "from matplotlib import gridspec\n",
        "fig = plt.figure(figsize=(18, 10))\n",
        "gs = gridspec.GridSpec(2,3)\n",
        "#f, ax = plt.subplots(nrows=1,ncols=len(l), sharey=True)\n",
        "ax0 = plt.subplot(gs[0])\n",
        "ax0.scatter(df[l[0]],df['Price'])\n",
        "ax0.set_title(l[0]+\" vs. Price\", fontdict={'fontsize':20})\n",
        "\n",
        "ax1 = plt.subplot(gs[1])\n",
        "ax1.scatter(df[l[1]],df['Price'])\n",
        "ax1.set_title(l[1]+\" vs. Price\",fontdict={'fontsize':20})\n",
        "\n",
        "ax2 = plt.subplot(gs[2])\n",
        "ax2.scatter(df[l[2]],df['Price'])\n",
        "ax2.set_title(l[2]+\" vs. Price\",fontdict={'fontsize':20})\n",
        "\n",
        "ax3 = plt.subplot(gs[3])\n",
        "ax3.scatter(df[l[3]],df['Price'])\n",
        "ax3.set_title(l[3]+\" vs. Price\",fontdict={'fontsize':20})\n",
        "\n",
        "ax4 = plt.subplot(gs[4])\n",
        "ax4.scatter(df[l[4]],df['Price'])\n",
        "ax4.set_title(l[4]+\" vs. Price\",fontdict={'fontsize':20})"
      ],
      "metadata": {
        "id": "hVi-BXWhBlx8"
      },
      "execution_count": null,
      "outputs": []
    },
    {
      "cell_type": "code",
      "source": [
        "print(\"R-squared value of this fit:\",round(metrics.r2_score(y_train,train_pred),3))"
      ],
      "metadata": {
        "id": "aF5EpM_AB0o_"
      },
      "execution_count": null,
      "outputs": []
    },
    {
      "cell_type": "code",
      "source": [
        "predictions = lm.predict(X_test)\n",
        "print (\"Type of the predicted object:\", type(predictions))\n",
        "print (\"Size of the predicted object:\", predictions.shape)"
      ],
      "metadata": {
        "id": "BEjlTj5RB3_Y"
      },
      "execution_count": null,
      "outputs": []
    },
    {
      "cell_type": "code",
      "source": [
        "plt.figure(figsize=(10,7))\n",
        "plt.title(\"Actual vs. predicted house prices\",fontsize=25)\n",
        "plt.xlabel(\"Actual test set house prices\",fontsize=18)\n",
        "plt.ylabel(\"Predicted house prices\", fontsize=18)\n",
        "plt.scatter(x=y_test,y=predictions)"
      ],
      "metadata": {
        "id": "xclZnsO_B7BW"
      },
      "execution_count": null,
      "outputs": []
    },
    {
      "cell_type": "code",
      "source": [
        "plt.figure(figsize=(10,7))\n",
        "plt.title(\"Histogram of residuals to check for normality\",fontsize=25)\n",
        "plt.xlabel(\"Residuals\",fontsize=18)\n",
        "plt.ylabel(\"Kernel density\", fontsize=18)\n",
        "sns.histplot([y_test-predictions])"
      ],
      "metadata": {
        "id": "gRgSF9APCTHz"
      },
      "execution_count": null,
      "outputs": []
    },
    {
      "cell_type": "code",
      "source": [
        "plt.figure(figsize=(10,7))\n",
        "plt.title(\"Residuals vs. predicted values plot (Homoscedasticity)\\n\",fontsize=25)\n",
        "plt.xlabel(\"Predicted house prices\",fontsize=18)\n",
        "plt.ylabel(\"Residuals\", fontsize=18)\n",
        "plt.scatter(x=predictions,y=y_test-predictions)"
      ],
      "metadata": {
        "id": "IBhXxK9qCWNf"
      },
      "execution_count": null,
      "outputs": []
    },
    {
      "cell_type": "code",
      "source": [
        "print(\"Mean absolute error (MAE):\", metrics.mean_absolute_error(y_test,predictions))\n",
        "print(\"Mean square error (MSE):\", metrics.mean_squared_error(y_test,predictions))\n",
        "print(\"Root mean square error (RMSE):\", np.sqrt(metrics.mean_squared_error(y_test,predictions)))"
      ],
      "metadata": {
        "id": "jv8DwkygCbhW"
      },
      "execution_count": null,
      "outputs": []
    },
    {
      "cell_type": "code",
      "source": [
        "print(\"R-squared value of predictions:\",round(metrics.r2_score(y_test,predictions),3))"
      ],
      "metadata": {
        "id": "FuV608ydCegx"
      },
      "execution_count": null,
      "outputs": []
    },
    {
      "cell_type": "code",
      "source": [
        "#compute minmax value for observed price and expected price\n",
        "import numpy as np\n",
        "min=np.min(predictions/6000)\n",
        "max=np.max(predictions/12000)\n",
        "print(min, max)"
      ],
      "metadata": {
        "id": "OMCVxz_dCh7z"
      },
      "execution_count": null,
      "outputs": []
    },
    {
      "cell_type": "code",
      "source": [
        "#Compute MinMax value for Price=100\n",
        "L = (100 - min)/(max - min)\n",
        "L\n",
        "plt.hist(L)"
      ],
      "metadata": {
        "id": "cIwWNFngCo-Z"
      },
      "execution_count": null,
      "outputs": []
    }
  ]
}